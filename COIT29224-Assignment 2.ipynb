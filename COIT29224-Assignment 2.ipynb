{
 "cells": [
  {
   "cell_type": "markdown",
   "id": "869804aa",
   "metadata": {},
   "source": [
    "# Evolution Strategy (μ/μ, λ)-ES for Rastrigin Function Optimization\n",
    "\n"
   ]
  },
  {
   "cell_type": "code",
   "execution_count": 1,
   "id": "fb3aa8d8",
   "metadata": {},
   "outputs": [],
   "source": [
    "# Import required libraries\n",
    "import numpy as np\n",
    "import matplotlib.pyplot as plt\n"
   ]
  },
  {
   "cell_type": "markdown",
   "id": "848abd77",
   "metadata": {},
   "source": [
    "## Step 1: Define the Rastrigin Function\n",
    "\n",
    "Rastrigin function is one of the widely known non-convex functions used as a performance test problem for optimization algorithms. It is very multimodal and has much local minima."
   ]
  },
  {
   "cell_type": "code",
   "execution_count": 2,
   "id": "25358da3",
   "metadata": {},
   "outputs": [],
   "source": [
    "def rastrigin(X):\n",
    "    \"\"\"\n",
    "    Rastrigin function for fitness evaluation.\n",
    "    Parameters:\n",
    "        X (np.ndarray): Solution vector or population (N, D)\n",
    "    Returns:\n",
    "        np.ndarray: Fitness value(s)\n",
    "    \"\"\"\n",
    "    A = 10\n",
    "    X = np.atleast_2d(X)  # ensure 2D input\n",
    "    return A * X.shape[1] + np.sum(X**2 - A * np.cos(2 * np.pi * X), axis=1)\n"
   ]
  },
  {
   "cell_type": "markdown",
   "id": "5e29f267",
   "metadata": {},
   "source": [
    "## Step 2: Define ES Parameters and Initialize Population\n"
   ]
  },
  {
   "cell_type": "code",
   "execution_count": 3,
   "id": "bd0e389f",
   "metadata": {},
   "outputs": [],
   "source": [
    "# Parameters\n",
    "DIM = 10                  # Dimensions\n",
    "POP_SIZE = 20             # μ: Number of parents\n",
    "OFFSPRING_SIZE = 60       # λ: Number of offspring\n",
    "MUTATION_PROB = 0.1       # Mutation probability per gene\n",
    "MUTATION_SCALE = 0.3      # Gaussian noise standard deviation\n",
    "BOUNDS = (-5.12, 5.12)    # Search space bounds\n",
    "GENERATIONS = 200         # Number of generations\n",
    "\n",
    "# Population Initialization\n",
    "def initialize_population(pop_size, dim, bounds):\n",
    "    return np.random.uniform(bounds[0], bounds[1], (pop_size, dim))\n",
    "\n",
    "population = initialize_population(POP_SIZE, DIM, BOUNDS)\n",
    "best_fitness_history = []\n"
   ]
  },
  {
   "cell_type": "markdown",
   "id": "49257af4",
   "metadata": {},
   "source": [
    "## Step 3: Evolutionary Loop\n",
    "\n"
   ]
  },
  {
   "cell_type": "code",
   "execution_count": 5,
   "id": "61d15c90",
   "metadata": {},
   "outputs": [
    {
     "name": "stdout",
     "output_type": "stream",
     "text": [
      "Generation 0: Best Fitness = 69.8545\n",
      "Generation 20: Best Fitness = 11.5042\n",
      "Generation 40: Best Fitness = 5.6638\n",
      "Generation 60: Best Fitness = 5.4971\n",
      "Generation 80: Best Fitness = 5.2201\n",
      "Generation 100: Best Fitness = 5.1148\n",
      "Generation 120: Best Fitness = 5.1020\n",
      "Generation 140: Best Fitness = 5.0283\n",
      "Generation 160: Best Fitness = 5.0104\n",
      "Generation 180: Best Fitness = 5.0070\n",
      "Generation 199: Best Fitness = 4.9944\n"
     ]
    }
   ],
   "source": [
    "# Step 3: Evolutionary Loop\n",
    "for generation in range(GENERATIONS):\n",
    "    offspring = []\n",
    "\n",
    "    for _ in range(OFFSPRING_SIZE):\n",
    "        # Select two parents and apply intermediate recombination\n",
    "        idx = np.random.choice(POP_SIZE, 2, replace=False)\n",
    "        parent1, parent2 = population[idx]\n",
    "        child = (parent1 + parent2) / 2.0\n",
    "\n",
    "        # Mutation: apply Gaussian noise with a probability\n",
    "        mutation_mask = np.random.rand(DIM) < MUTATION_PROB\n",
    "        mutation = np.random.normal(0, MUTATION_SCALE, DIM) * mutation_mask\n",
    "        child += mutation\n",
    "\n",
    "        # Clip the child within bounds\n",
    "        child = np.clip(child, BOUNDS[0], BOUNDS[1])\n",
    "        offspring.append(child)\n",
    "\n",
    "    # Convert offspring to numpy array\n",
    "    offspring = np.array(offspring)\n",
    "\n",
    "    # Evaluate fitness of offspring\n",
    "    fitness = rastrigin(offspring)\n",
    "\n",
    "    # Select top μ individuals with the lowest fitness\n",
    "    best_idx = np.argsort(fitness)[:POP_SIZE]\n",
    "    population = offspring[best_idx]\n",
    "\n",
    "    # Track and store best fitness of this generation\n",
    "    best_fitness = rastrigin(population[0])[0]  # Convert to float\n",
    "    best_fitness_history.append(best_fitness)\n",
    "\n",
    "    # Print progress every 20 generations\n",
    "    if generation % 20 == 0 or generation == GENERATIONS - 1:\n",
    "        print(f\"Generation {generation}: Best Fitness = {best_fitness:.4f}\")\n"
   ]
  },
  {
   "cell_type": "markdown",
   "id": "f422a23e",
   "metadata": {},
   "source": [
    "## Step 4: Convergence Visualization\n"
   ]
  },
  {
   "cell_type": "code",
   "execution_count": 6,
   "id": "d5056a50",
   "metadata": {},
   "outputs": [
    {
     "name": "stderr",
     "output_type": "stream",
     "text": [
      "/Applications/anaconda3/lib/python3.8/site-packages/numpy/core/shape_base.py:65: VisibleDeprecationWarning: Creating an ndarray from ragged nested sequences (which is a list-or-tuple of lists-or-tuples-or ndarrays with different lengths or shapes) is deprecated. If you meant to do this, you must specify 'dtype=object' when creating the ndarray.\n",
      "  ary = asanyarray(ary)\n"
     ]
    },
    {
     "data": {
      "image/png": "[encoded data removed]",
      "text/plain": [
       "<Figure size 720x360 with 1 Axes>"
      ]
     },
     "metadata": {
      "needs_background": "light"
     },
     "output_type": "display_data"
    }
   ],
   "source": [
    "plt.figure(figsize=(10, 5))\n",
    "plt.plot(best_fitness_history, label='Best Fitness')\n",
    "plt.title('Convergence Curve of (μ/μ, λ)-ES on Rastrigin Function')\n",
    "plt.xlabel('Generation')\n",
    "plt.ylabel('Fitness')\n",
    "plt.grid(True)\n",
    "plt.legend()\n",
    "plt.tight_layout()\n",
    "plt.show()\n",
    "\n"
   ]
  },
  {
   "cell_type": "markdown",
   "id": "783968bc",
   "metadata": {},
   "source": [
    "## Step 5: Display Final Results\n"
   ]
  },
  {
   "cell_type": "code",
   "execution_count": 7,
   "id": "97034d04",
   "metadata": {},
   "outputs": [
    {
     "name": "stdout",
     "output_type": "stream",
     "text": [
      "Best Solution Found:\n",
      "[ 1.60617749e-04  9.98171045e-01  1.98807254e+00  4.81807897e-03\n",
      "  2.19075642e-03  7.15674185e-03  5.02969013e-04  1.87318842e-04\n",
      "  1.16061781e-03 -2.05280468e-03]\n",
      " Fitness of Best Solution: 4.994389\n"
     ]
    }
   ],
   "source": [
    "# Step 5: Final Best Solution and Fitness\n",
    "best_solution = population[0]\n",
    "final_fitness = rastrigin(best_solution)[0]  # Ensure scalar output\n",
    "\n",
    "print(\"Best Solution Found:\")\n",
    "print(best_solution)\n",
    "print(f\" Fitness of Best Solution: {final_fitness:.6f}\")\n"
   ]
  },
  {
   "cell_type": "code",
   "execution_count": null,
   "id": "cd2adab3",
   "metadata": {},
   "outputs": [],
   "source": []
  }
 ],
 "metadata": {
  "kernelspec": {
   "display_name": "Python 3",
   "language": "python",
   "name": "python3"
  },
  "language_info": {
   "codemirror_mode": {
    "name": "ipython",
    "version": 3
   },
   "file_extension": ".py",
   "mimetype": "text/x-python",
   "name": "python",
   "nbconvert_exporter": "python",
   "pygments_lexer": "ipython3",
   "version": "3.8.8"
  }
 },
 "nbformat": 4,
 "nbformat_minor": 5
}
